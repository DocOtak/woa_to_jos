{
 "cells": [
  {
   "cell_type": "code",
   "execution_count": 6,
   "metadata": {},
   "outputs": [
    {
     "data": {
      "text/plain": [
       "<xarray.core.options.set_options at 0x128700a90>"
      ]
     },
     "execution_count": 6,
     "metadata": {},
     "output_type": "execute_result"
    }
   ],
   "source": [
    "import os\n",
    "from pathlib import Path\n",
    "\n",
    "import xarray as xr\n",
    "import numpy as np\n",
    "\n",
    "import requests\n",
    "from tqdm.notebook import tqdm\n",
    "\n",
    "xr.set_options(keep_attrs=True)"
   ]
  },
  {
   "cell_type": "code",
   "execution_count": 4,
   "metadata": {},
   "outputs": [],
   "source": [
    "params = {\n",
    "    \"temperature\": \"t\",\n",
    "    \"salinity\": \"s\",\n",
    "    \"oxygen\": \"o\",\n",
    "    \"silicate\": \"i\",\n",
    "    \"phosphate\": \"p\",\n",
    "    \"nitrate\": \"n\",\n",
    "}\n",
    "seasons = {\n",
    "    \"annual\": \"00\",\n",
    "    \"winter\": \"13\",\n",
    "    \"spring\": \"14\",\n",
    "    \"summer\": \"15\",\n",
    "    \"autumn\": \"16\",\n",
    "}\n",
    "\n",
    "data_uris = []\n",
    "for param, pcode in params.items():\n",
    "    for season, scode in seasons.items():\n",
    "        if pcode in [\"t\", \"s\"]:\n",
    "            uri = f\"https://data.nodc.noaa.gov/thredds/fileServer/ncei/woa/{param}/decav/1.00/woa18_decav_{pcode}{scode}_01.nc\"\n",
    "        else:\n",
    "            uri = f\"https://data.nodc.noaa.gov/thredds/fileServer/ncei/woa/{param}/all/1.00/woa18_all_{pcode}{scode}_01.nc\"\n",
    "        data_uris.append(uri)"
   ]
  },
  {
   "cell_type": "markdown",
   "metadata": {},
   "source": [
    "## Download WOA18 Data\n",
    "This is about 4.7GB of netCDF files so it takes a while"
   ]
  },
  {
   "cell_type": "code",
   "execution_count": 5,
   "metadata": {
    "collapsed": true,
    "jupyter": {
     "outputs_hidden": true
    }
   },
   "outputs": [
    {
     "data": {
      "application/vnd.jupyter.widget-view+json": {
       "model_id": "da1dbb0f776946cab7272697e02cf468",
       "version_major": 2,
       "version_minor": 0
      },
      "text/plain": [
       "HBox(children=(FloatProgress(value=0.0, description='woa18_decav_t00_01.nc', max=185103663.0, style=ProgressSt…"
      ]
     },
     "metadata": {},
     "output_type": "display_data"
    },
    {
     "name": "stdout",
     "output_type": "stream",
     "text": [
      "\n"
     ]
    },
    {
     "data": {
      "application/vnd.jupyter.widget-view+json": {
       "model_id": "9754518c98504952be1605ec80b99237",
       "version_major": 2,
       "version_minor": 0
      },
      "text/plain": [
       "HBox(children=(FloatProgress(value=0.0, description='woa18_decav_t13_01.nc', max=211542623.0, style=ProgressSt…"
      ]
     },
     "metadata": {},
     "output_type": "display_data"
    },
    {
     "name": "stdout",
     "output_type": "stream",
     "text": [
      "\n"
     ]
    },
    {
     "data": {
      "application/vnd.jupyter.widget-view+json": {
       "model_id": "9e32c17c4a57457a943335f86e7d1e81",
       "version_major": 2,
       "version_minor": 0
      },
      "text/plain": [
       "HBox(children=(FloatProgress(value=0.0, description='woa18_decav_t14_01.nc', max=211542623.0, style=ProgressSt…"
      ]
     },
     "metadata": {},
     "output_type": "display_data"
    },
    {
     "name": "stdout",
     "output_type": "stream",
     "text": [
      "\n"
     ]
    },
    {
     "data": {
      "application/vnd.jupyter.widget-view+json": {
       "model_id": "d7747132b46d4c669433b8f2edbc28d2",
       "version_major": 2,
       "version_minor": 0
      },
      "text/plain": [
       "HBox(children=(FloatProgress(value=0.0, description='woa18_decav_t15_01.nc', max=211542623.0, style=ProgressSt…"
      ]
     },
     "metadata": {},
     "output_type": "display_data"
    },
    {
     "name": "stdout",
     "output_type": "stream",
     "text": [
      "\n"
     ]
    },
    {
     "data": {
      "application/vnd.jupyter.widget-view+json": {
       "model_id": "6b7fbbfdfa384926bc2a173365f7c9fa",
       "version_major": 2,
       "version_minor": 0
      },
      "text/plain": [
       "HBox(children=(FloatProgress(value=0.0, description='woa18_decav_t16_01.nc', max=211542617.0, style=ProgressSt…"
      ]
     },
     "metadata": {},
     "output_type": "display_data"
    },
    {
     "name": "stdout",
     "output_type": "stream",
     "text": [
      "\n"
     ]
    },
    {
     "data": {
      "application/vnd.jupyter.widget-view+json": {
       "model_id": "b111e6b072c94d0d8300472f76121788",
       "version_major": 2,
       "version_minor": 0
      },
      "text/plain": [
       "HBox(children=(FloatProgress(value=0.0, description='woa18_decav_s00_01.nc', max=185103560.0, style=ProgressSt…"
      ]
     },
     "metadata": {},
     "output_type": "display_data"
    },
    {
     "name": "stdout",
     "output_type": "stream",
     "text": [
      "\n"
     ]
    },
    {
     "data": {
      "application/vnd.jupyter.widget-view+json": {
       "model_id": "1493a60c47af4637b6602e3f33c134ce",
       "version_major": 2,
       "version_minor": 0
      },
      "text/plain": [
       "HBox(children=(FloatProgress(value=0.0, description='woa18_decav_s13_01.nc', max=211542503.0, style=ProgressSt…"
      ]
     },
     "metadata": {},
     "output_type": "display_data"
    },
    {
     "name": "stdout",
     "output_type": "stream",
     "text": [
      "\n"
     ]
    },
    {
     "data": {
      "application/vnd.jupyter.widget-view+json": {
       "model_id": "823be671fd0647629b801ddd33a1649d",
       "version_major": 2,
       "version_minor": 0
      },
      "text/plain": [
       "HBox(children=(FloatProgress(value=0.0, description='woa18_decav_s14_01.nc', max=211542503.0, style=ProgressSt…"
      ]
     },
     "metadata": {},
     "output_type": "display_data"
    },
    {
     "name": "stdout",
     "output_type": "stream",
     "text": [
      "\n"
     ]
    },
    {
     "data": {
      "application/vnd.jupyter.widget-view+json": {
       "model_id": "b3af1d6366a3450ba06cb82f3c66376d",
       "version_major": 2,
       "version_minor": 0
      },
      "text/plain": [
       "HBox(children=(FloatProgress(value=0.0, description='woa18_decav_s15_01.nc', max=211542503.0, style=ProgressSt…"
      ]
     },
     "metadata": {},
     "output_type": "display_data"
    },
    {
     "name": "stdout",
     "output_type": "stream",
     "text": [
      "\n"
     ]
    },
    {
     "data": {
      "application/vnd.jupyter.widget-view+json": {
       "model_id": "4e5801422e2f46118e35ae251462bb0d",
       "version_major": 2,
       "version_minor": 0
      },
      "text/plain": [
       "HBox(children=(FloatProgress(value=0.0, description='woa18_decav_s16_01.nc', max=211542501.0, style=ProgressSt…"
      ]
     },
     "metadata": {},
     "output_type": "display_data"
    },
    {
     "name": "stdout",
     "output_type": "stream",
     "text": [
      "\n"
     ]
    },
    {
     "data": {
      "application/vnd.jupyter.widget-view+json": {
       "model_id": "d9ae8a807f95456e96a55dc8e398d7f7",
       "version_major": 2,
       "version_minor": 0
      },
      "text/plain": [
       "HBox(children=(FloatProgress(value=0.0, description='woa18_all_o00_01.nc', max=185104272.0, style=ProgressStyl…"
      ]
     },
     "metadata": {},
     "output_type": "display_data"
    },
    {
     "name": "stdout",
     "output_type": "stream",
     "text": [
      "\n"
     ]
    },
    {
     "data": {
      "application/vnd.jupyter.widget-view+json": {
       "model_id": "2963589b927046dfb23f168c70925be8",
       "version_major": 2,
       "version_minor": 0
      },
      "text/plain": [
       "HBox(children=(FloatProgress(value=0.0, description='woa18_all_o13_01.nc', max=211543324.0, style=ProgressStyl…"
      ]
     },
     "metadata": {},
     "output_type": "display_data"
    },
    {
     "name": "stdout",
     "output_type": "stream",
     "text": [
      "\n"
     ]
    },
    {
     "data": {
      "application/vnd.jupyter.widget-view+json": {
       "model_id": "1a6611a5e09b4f8a9d52d3ebb94e9992",
       "version_major": 2,
       "version_minor": 0
      },
      "text/plain": [
       "HBox(children=(FloatProgress(value=0.0, description='woa18_all_o14_01.nc', max=211543324.0, style=ProgressStyl…"
      ]
     },
     "metadata": {},
     "output_type": "display_data"
    },
    {
     "name": "stdout",
     "output_type": "stream",
     "text": [
      "\n"
     ]
    },
    {
     "data": {
      "application/vnd.jupyter.widget-view+json": {
       "model_id": "0582ffbb0b674cd79169f972bfad06a3",
       "version_major": 2,
       "version_minor": 0
      },
      "text/plain": [
       "HBox(children=(FloatProgress(value=0.0, description='woa18_all_o15_01.nc', max=211543324.0, style=ProgressStyl…"
      ]
     },
     "metadata": {},
     "output_type": "display_data"
    },
    {
     "name": "stdout",
     "output_type": "stream",
     "text": [
      "\n"
     ]
    },
    {
     "data": {
      "application/vnd.jupyter.widget-view+json": {
       "model_id": "6d2b9cd99404409992eb3eade458f3f5",
       "version_major": 2,
       "version_minor": 0
      },
      "text/plain": [
       "HBox(children=(FloatProgress(value=0.0, description='woa18_all_o16_01.nc', max=211543322.0, style=ProgressStyl…"
      ]
     },
     "metadata": {},
     "output_type": "display_data"
    },
    {
     "name": "stdout",
     "output_type": "stream",
     "text": [
      "\n"
     ]
    },
    {
     "data": {
      "application/vnd.jupyter.widget-view+json": {
       "model_id": "c5db7b7672394df3a54a81add38fa080",
       "version_major": 2,
       "version_minor": 0
      },
      "text/plain": [
       "HBox(children=(FloatProgress(value=0.0, description='woa18_all_i00_01.nc', max=185104093.0, style=ProgressStyl…"
      ]
     },
     "metadata": {},
     "output_type": "display_data"
    },
    {
     "name": "stdout",
     "output_type": "stream",
     "text": [
      "\n"
     ]
    },
    {
     "data": {
      "application/vnd.jupyter.widget-view+json": {
       "model_id": "530c273d4ba44880b9b3af166e24e2a3",
       "version_major": 2,
       "version_minor": 0
      },
      "text/plain": [
       "HBox(children=(FloatProgress(value=0.0, description='woa18_all_i13_01.nc', max=89199999.0, style=ProgressStyle…"
      ]
     },
     "metadata": {},
     "output_type": "display_data"
    },
    {
     "name": "stdout",
     "output_type": "stream",
     "text": [
      "\n"
     ]
    },
    {
     "data": {
      "application/vnd.jupyter.widget-view+json": {
       "model_id": "aefb5dc7fd6f44d3b0bfa6eee17f2435",
       "version_major": 2,
       "version_minor": 0
      },
      "text/plain": [
       "HBox(children=(FloatProgress(value=0.0, description='woa18_all_i14_01.nc', max=89199999.0, style=ProgressStyle…"
      ]
     },
     "metadata": {},
     "output_type": "display_data"
    },
    {
     "name": "stdout",
     "output_type": "stream",
     "text": [
      "\n"
     ]
    },
    {
     "data": {
      "application/vnd.jupyter.widget-view+json": {
       "model_id": "d28acbf6c91a4b4e8211505497b1a836",
       "version_major": 2,
       "version_minor": 0
      },
      "text/plain": [
       "HBox(children=(FloatProgress(value=0.0, description='woa18_all_i15_01.nc', max=89199999.0, style=ProgressStyle…"
      ]
     },
     "metadata": {},
     "output_type": "display_data"
    },
    {
     "name": "stdout",
     "output_type": "stream",
     "text": [
      "\n"
     ]
    },
    {
     "data": {
      "application/vnd.jupyter.widget-view+json": {
       "model_id": "86a38e5088964cd8b08ecf182bf288eb",
       "version_major": 2,
       "version_minor": 0
      },
      "text/plain": [
       "HBox(children=(FloatProgress(value=0.0, description='woa18_all_i16_01.nc', max=89199997.0, style=ProgressStyle…"
      ]
     },
     "metadata": {},
     "output_type": "display_data"
    },
    {
     "name": "stdout",
     "output_type": "stream",
     "text": [
      "\n"
     ]
    },
    {
     "data": {
      "application/vnd.jupyter.widget-view+json": {
       "model_id": "85ef6c9ce9dd4020b811c2585b469cb3",
       "version_major": 2,
       "version_minor": 0
      },
      "text/plain": [
       "HBox(children=(FloatProgress(value=0.0, description='woa18_all_p00_01.nc', max=185104114.0, style=ProgressStyl…"
      ]
     },
     "metadata": {},
     "output_type": "display_data"
    },
    {
     "name": "stdout",
     "output_type": "stream",
     "text": [
      "\n"
     ]
    },
    {
     "data": {
      "application/vnd.jupyter.widget-view+json": {
       "model_id": "222f97e4188444508725bff8551006bc",
       "version_major": 2,
       "version_minor": 0
      },
      "text/plain": [
       "HBox(children=(FloatProgress(value=0.0, description='woa18_all_p13_01.nc', max=89200022.0, style=ProgressStyle…"
      ]
     },
     "metadata": {},
     "output_type": "display_data"
    },
    {
     "name": "stdout",
     "output_type": "stream",
     "text": [
      "\n"
     ]
    },
    {
     "data": {
      "application/vnd.jupyter.widget-view+json": {
       "model_id": "a2e8fb3b3e0842d89b4a600f4f2cf36a",
       "version_major": 2,
       "version_minor": 0
      },
      "text/plain": [
       "HBox(children=(FloatProgress(value=0.0, description='woa18_all_p14_01.nc', max=89200022.0, style=ProgressStyle…"
      ]
     },
     "metadata": {},
     "output_type": "display_data"
    },
    {
     "name": "stdout",
     "output_type": "stream",
     "text": [
      "\n"
     ]
    },
    {
     "data": {
      "application/vnd.jupyter.widget-view+json": {
       "model_id": "1feaa4e2ff9546de9637a6e343d3bdfd",
       "version_major": 2,
       "version_minor": 0
      },
      "text/plain": [
       "HBox(children=(FloatProgress(value=0.0, description='woa18_all_p15_01.nc', max=89200022.0, style=ProgressStyle…"
      ]
     },
     "metadata": {},
     "output_type": "display_data"
    },
    {
     "name": "stdout",
     "output_type": "stream",
     "text": [
      "\n"
     ]
    },
    {
     "data": {
      "application/vnd.jupyter.widget-view+json": {
       "model_id": "e8123401f6964fd982335679894c6aa8",
       "version_major": 2,
       "version_minor": 0
      },
      "text/plain": [
       "HBox(children=(FloatProgress(value=0.0, description='woa18_all_p16_01.nc', max=89200020.0, style=ProgressStyle…"
      ]
     },
     "metadata": {},
     "output_type": "display_data"
    },
    {
     "name": "stdout",
     "output_type": "stream",
     "text": [
      "\n"
     ]
    },
    {
     "data": {
      "application/vnd.jupyter.widget-view+json": {
       "model_id": "bdcc2fce7220462da876bf103d68f586",
       "version_major": 2,
       "version_minor": 0
      },
      "text/plain": [
       "HBox(children=(FloatProgress(value=0.0, description='woa18_all_n00_01.nc', max=185104086.0, style=ProgressStyl…"
      ]
     },
     "metadata": {},
     "output_type": "display_data"
    },
    {
     "name": "stdout",
     "output_type": "stream",
     "text": [
      "\n"
     ]
    },
    {
     "data": {
      "application/vnd.jupyter.widget-view+json": {
       "model_id": "2c018bd9ef134709bef90a30df3855b8",
       "version_major": 2,
       "version_minor": 0
      },
      "text/plain": [
       "HBox(children=(FloatProgress(value=0.0, description='woa18_all_n13_01.nc', max=89199990.0, style=ProgressStyle…"
      ]
     },
     "metadata": {},
     "output_type": "display_data"
    },
    {
     "name": "stdout",
     "output_type": "stream",
     "text": [
      "\n"
     ]
    },
    {
     "data": {
      "application/vnd.jupyter.widget-view+json": {
       "model_id": "b0cd5b1bd944436daef0b592f7809d10",
       "version_major": 2,
       "version_minor": 0
      },
      "text/plain": [
       "HBox(children=(FloatProgress(value=0.0, description='woa18_all_n14_01.nc', max=89199990.0, style=ProgressStyle…"
      ]
     },
     "metadata": {},
     "output_type": "display_data"
    },
    {
     "name": "stdout",
     "output_type": "stream",
     "text": [
      "\n"
     ]
    },
    {
     "data": {
      "application/vnd.jupyter.widget-view+json": {
       "model_id": "2178f55b0438479fa989e4ff17a80f22",
       "version_major": 2,
       "version_minor": 0
      },
      "text/plain": [
       "HBox(children=(FloatProgress(value=0.0, description='woa18_all_n15_01.nc', max=89199990.0, style=ProgressStyle…"
      ]
     },
     "metadata": {},
     "output_type": "display_data"
    },
    {
     "name": "stdout",
     "output_type": "stream",
     "text": [
      "\n"
     ]
    },
    {
     "data": {
      "application/vnd.jupyter.widget-view+json": {
       "model_id": "5bd9b2bde1d54df3a795b814be60259f",
       "version_major": 2,
       "version_minor": 0
      },
      "text/plain": [
       "HBox(children=(FloatProgress(value=0.0, description='woa18_all_n16_01.nc', max=89199988.0, style=ProgressStyle…"
      ]
     },
     "metadata": {},
     "output_type": "display_data"
    },
    {
     "name": "stdout",
     "output_type": "stream",
     "text": [
      "\n"
     ]
    }
   ],
   "source": [
    "def download_woa18_uris(uris):\n",
    "    os.makedirs(\"woa18\", exist_ok=True)\n",
    "    for uri in uris:\n",
    "        fname = uri.split(\"/\")[-1]\n",
    "        out_path = os.path.join(\"woa18\", fname)\n",
    "        \n",
    "        response = requests.get(uri, stream=True)\n",
    "        with tqdm.wrapattr(open(out_path, \"wb\"), \"write\",\n",
    "                           miniters=1, desc=fname,\n",
    "                           total=int(response.headers.get('content-length', 0))) as fout:\n",
    "            for chunk in response.iter_content(chunk_size=4096):\n",
    "                fout.write(chunk)\n",
    "          \n",
    "download_woa18_uris(data_uris)"
   ]
  },
  {
   "cell_type": "markdown",
   "metadata": {},
   "source": [
    "## Preprocess files"
   ]
  },
  {
   "cell_type": "code",
   "execution_count": 12,
   "metadata": {},
   "outputs": [],
   "source": [
    "root = Path(\"woa18\")\n",
    "for season, scode in seasons.items():\n",
    "    os.makedirs(\"process\", exist_ok=True)\n",
    "    woa = []\n",
    "    for file in root.glob(f\"*{scode}_01.nc\"):\n",
    "        data = xr.open_dataset(file, decode_times=False)\n",
    "        for var in data:\n",
    "            if not var.endswith(\"_an\"):\n",
    "                continue\n",
    "            woa.append(data[var].squeeze().drop(\"time\"))\n",
    "    xr.merge(woa).transpose(\"lon\", \"lat\", \"depth\").to_netcdf(f\"process/woa18_an_{scode}_01.nc\")"
   ]
  },
  {
   "cell_type": "code",
   "execution_count": 15,
   "metadata": {},
   "outputs": [],
   "source": [
    "def write_line(station, row):\n",
    "    return (f\"WOA18\\t\"\n",
    "            f\"{station+1}\\t\"\n",
    "            f\"{row.lat:.1f}\\t\"\n",
    "            f\"{row.lon:.1f}\\t\"\n",
    "            f\"{row.depth:.0f}\\t\"\n",
    "            f\"{row.t_an:.4f}\\t\"\n",
    "            f\"{row.s_an:.4f}\\t\"\n",
    "            f\"{row.o_an:.4f}\\t\"\n",
    "            f\"{row.i_an:.4f}\\t\"\n",
    "            f\"{row.n_an:.4f}\\t\"\n",
    "            f\"{row.p_an:.4f}\\t\"\n",
    "            \"\\n\")\n",
    "\n",
    "JOS_HEADER = \"Section\\tSTATION\\tLat\\tLong\\tPRES\\tTEMP\\tSALT\\tO2\\tSIO3\\tNO3\\tPO4\\n\""
   ]
  },
  {
   "cell_type": "markdown",
   "metadata": {},
   "source": [
    "## Request B.1\n",
    "One .jos file containing the global profiles from the objectively analyzed annual fields (\"an\") at 1-degree latitudinal resolution but variable longitudinal resolution (\"decimated\"), all 102 levels.\n",
    "\n",
    "\"decimated\" as follows:\n",
    "* for latitudes from -60 to +60 degrees, use all 1-degree grid points\n",
    "* for latitudes from -60 to -75 degrees and +60 to +75 degrees, use only every 2nd longitude\n",
    "* for latitudes poleward of -75 degrees and +75 degrees, use only every 4th longitude"
   ]
  },
  {
   "cell_type": "code",
   "execution_count": 20,
   "metadata": {},
   "outputs": [],
   "source": [
    "os.makedirs(\"jos\", exist_ok=True)\n",
    "with xr.open_dataset(\"process/woa18_an_00_01.nc\") as data, open(\"jos/woa18_annual_decimated_all_levels.jos\", 'w') as jos:\n",
    "    jos.write(JOS_HEADER)\n",
    "    \n",
    "    # the following is a clever way of making all valid (lat, lon) pairs, it's also speedy\n",
    "    points = np.array(np.meshgrid(data.coords[\"lat\"], data.coords[\"lon\"])).T.reshape(-1, 2)\n",
    "    \n",
    "    # we just need a single lat, doesn't matter which\n",
    "    every_2nd_lon = data.sel(lat=0.5).lon[::2]\n",
    "    every_4th_lon = data.sel(lat=0.5).lon[::4]\n",
    "    \n",
    "    station = 1\n",
    "    for lat, lon in points:\n",
    "        if abs(lat) > 75 and lon not in every_4th_lon:\n",
    "            continue\n",
    "        if 75 > abs(lat) > 60 and lon not in every_2nd_lon:\n",
    "            continue\n",
    "        profile = data.sel(lat=lat, lon=lon)\n",
    "        \n",
    "        if np.all(np.isnan(profile.t_an)):\n",
    "            continue\n",
    "        else:\n",
    "            levels = np.isnan(profile[\"t_an\"])==False\n",
    "            for _, row in profile.isel(depth=levels).to_dataframe().reset_index().iterrows():\n",
    "                jos.write(write_line(station, row))\n",
    "            station += 1"
   ]
  },
  {
   "cell_type": "markdown",
   "metadata": {},
   "source": [
    "## Request B.2\n",
    "One .jos file containing the global profiles from the objectively analyzed annual fields (\"an\") at the same positional resolution as item B.1, but at only the 41 highlighted levels in the table above."
   ]
  },
  {
   "cell_type": "code",
   "execution_count": 23,
   "metadata": {},
   "outputs": [],
   "source": [
    "jims_depths = [\n",
    "    0,\n",
    "    10,\n",
    "    20,\n",
    "    30,\n",
    "    40,\n",
    "    50,\n",
    "    60,\n",
    "    75,\n",
    "    100,\n",
    "    125,\n",
    "    150,\n",
    "    175,\n",
    "    200,\n",
    "    225,\n",
    "    250,\n",
    "    300,\n",
    "    350,\n",
    "    400,\n",
    "    450,\n",
    "    500,\n",
    "    600,\n",
    "    700,\n",
    "    800,\n",
    "    900,\n",
    "    1000,\n",
    "    1200,\n",
    "    1400,\n",
    "    1600,\n",
    "    1800,\n",
    "    2000,\n",
    "    2200,\n",
    "    2400,\n",
    "    2600,\n",
    "    2800,\n",
    "    3000,\n",
    "    3200,\n",
    "    3500,\n",
    "    4000,\n",
    "    4500,\n",
    "    5000,\n",
    "    5500,\n",
    "]\n",
    "\n",
    "os.makedirs(\"jos\", exist_ok=True)\n",
    "with xr.open_dataset(\"process/woa18_an_00_01.nc\") as data, open(\"jos/woa18_annual_decimated_41_levels.jos\", 'w') as jos:\n",
    "    jos.write(JOS_HEADER)\n",
    "    \n",
    "    # the following is a clever way of making all valid (lat, lon) pairs, it's also speedy\n",
    "    points = np.array(np.meshgrid(data.coords[\"lat\"], data.coords[\"lon\"])).T.reshape(-1, 2)\n",
    "    \n",
    "    # we just need a single lat, doesn't matter which\n",
    "    every_2nd_lon = data.sel(lat=0.5).lon[::2]\n",
    "    every_4th_lon = data.sel(lat=0.5).lon[::4]\n",
    "    \n",
    "    station = 1\n",
    "    for lat, lon in points:\n",
    "        if abs(lat) > 75 and lon not in every_4th_lon:\n",
    "            continue\n",
    "        if 75 > abs(lat) > 60 and lon not in every_2nd_lon:\n",
    "            continue\n",
    "        profile = data.sel(lat=lat, lon=lon)\n",
    "        \n",
    "        if np.all(np.isnan(profile.t_an)):\n",
    "            continue\n",
    "        else:\n",
    "            levels = np.isnan(profile[\"t_an\"])==False\n",
    "            p = profile.isel(depth=levels)\n",
    "            for _, row in p.where(p.depth.isin(jims_depths), drop=True).to_dataframe().reset_index().iterrows():\n",
    "                jos.write(write_line(station, row))\n",
    "            station += 1"
   ]
  },
  {
   "cell_type": "markdown",
   "metadata": {},
   "source": [
    "## Request B.3\n",
    "One .jos file containing the global heavy-decimated profiles from the objectively analyzed annual fields (an) at 2-degree latitudinal resolution and wider (than 1 & 2) variable longitudinal resolution, and at only the 41 highlighted levels in the table above. [This is a significantly smaller data file so may work better on less capable computers.]\n",
    "\n",
    "Where \"decimated\" is as follows:\n",
    "* use only every 2nd latitude and\n",
    "* for latitudes from -30 to +30 degrees, use only every 2nd longitude\n",
    "* for latitudes from -30 to -50 degrees and +30 to +50 degrees, use only every 3rd longitude\n",
    "* for latitudes from -50 to -65 degrees and +50 to +65 degrees, use only every 4th longitude\n",
    "* for latitudes poleward of -65 degrees and +65 degrees, use only every 5th longitude"
   ]
  },
  {
   "cell_type": "code",
   "execution_count": 25,
   "metadata": {},
   "outputs": [],
   "source": [
    "os.makedirs(\"jos\", exist_ok=True)\n",
    "with xr.open_dataset(\"process/woa18_an_00_01.nc\") as data, open(\"jos/woa18_annual_2deg_decimated_41_levels.jos\", 'w') as jos:\n",
    "    jos.write(JOS_HEADER)\n",
    "    \n",
    "    # the following is a clever way of making all valid (lat, lon) pairs, it's also speedy\n",
    "    points = np.array(np.meshgrid(data.coords[\"lat\"], data.coords[\"lon\"])).T.reshape(-1, 2)\n",
    "    \n",
    "    # we just need a single lat, doesn't matter which\n",
    "    every_2nd_lon = data.sel(lat=0.5).lon[::2]\n",
    "    every_3rd_lon = data.sel(lat=0.5).lon[::3]\n",
    "    every_4th_lon = data.sel(lat=0.5).lon[::4]\n",
    "    every_5th_lon = data.sel(lat=0.5).lon[::5]\n",
    "    \n",
    "    every_2nd_lat = data.sel(lon=0.5).lat[::2]\n",
    "    \n",
    "    station = 1\n",
    "    for lat, lon in points:\n",
    "        if lat not in every_2nd_lat:\n",
    "            continue\n",
    "        \n",
    "        if abs(lat) > 65 and lon not in every_5th_lon:\n",
    "            continue\n",
    "        if 65 > abs(lat) > 50 and lon not in every_4th_lon:\n",
    "            continue\n",
    "        if 50 > abs(lat) > 30 and lon not in every_3rd_lon:\n",
    "            continue\n",
    "        if 30 > abs(lat) and lon not in every_2nd_lon:\n",
    "            continue\n",
    "        \n",
    "        profile = data.sel(lat=lat, lon=lon)\n",
    "        \n",
    "        if np.all(np.isnan(profile.t_an)):\n",
    "            continue\n",
    "        else:\n",
    "            levels = np.isnan(profile[\"t_an\"])==False\n",
    "            p = profile.isel(depth=levels)\n",
    "            for _, row in p.where(p.depth.isin(jims_depths), drop=True).to_dataframe().reset_index().iterrows():\n",
    "                jos.write(write_line(station, row))\n",
    "            station += 1"
   ]
  },
  {
   "cell_type": "markdown",
   "metadata": {},
   "source": [
    "## Request B.4\n",
    "Four .jos files containing the entire global decimated profiles at the resolution of items #1 And #2, for the objectively analyzed seasonal fields, for all 43 levels from the surface through 800 meters."
   ]
  },
  {
   "cell_type": "code",
   "execution_count": 29,
   "metadata": {},
   "outputs": [],
   "source": [
    "for season, scode in seasons.items():\n",
    "    if scode == \"00\":\n",
    "        continue\n",
    "        \n",
    "    os.makedirs(\"jos\", exist_ok=True)\n",
    "    with xr.open_dataset(f\"process/woa18_an_{scode}_01.nc\") as data, open(f\"jos/woa18_{scode}_decimated_to_800m.jos\", 'w') as jos:\n",
    "        jos.write(JOS_HEADER)\n",
    "        \n",
    "        # the following is a clever way of making all valid (lat, lon) pairs, it's also speedy\n",
    "        points = np.array(np.meshgrid(data.coords[\"lat\"], data.coords[\"lon\"])).T.reshape(-1, 2)\n",
    "        \n",
    "        # we just need a single lat, doesn't matter which\n",
    "        every_2nd_lon = data.sel(lat=0.5).lon[::2]\n",
    "        every_4th_lon = data.sel(lat=0.5).lon[::4]\n",
    "        \n",
    "        station = 1\n",
    "        for lat, lon in points:\n",
    "            if abs(lat) > 75 and lon not in every_4th_lon:\n",
    "                continue\n",
    "            if 75 > abs(lat) > 60 and lon not in every_2nd_lon:\n",
    "                continue\n",
    "            profile = data.sel(lat=lat, lon=lon)\n",
    "            \n",
    "            if np.all(np.isnan(profile.t_an)):\n",
    "                continue\n",
    "            else:\n",
    "                levels = np.isnan(profile[\"t_an\"])==False\n",
    "                p = profile.isel(depth=levels)\n",
    "                for _, row in p.where(p.depth <= 800, drop=True).to_dataframe().reset_index().iterrows():\n",
    "                    jos.write(write_line(station, row))\n",
    "                station += 1"
   ]
  },
  {
   "cell_type": "markdown",
   "metadata": {},
   "source": [
    "## Request B.5\n",
    "\n",
    "A library of zonal vertical sections extracted from the global profiles at 1-degree resolution, objectively analyzed annual fields (an), all 102 levels in .jos format at five-degree intervals of latitude from -80.5 degrees to +85.5 degrees. (41 sections?)"
   ]
  },
  {
   "cell_type": "code",
   "execution_count": 36,
   "metadata": {},
   "outputs": [],
   "source": [
    "os.makedirs(\"jos\", exist_ok=True)\n",
    "with xr.open_dataset(\"process/woa18_an_00_01.nc\") as data:\n",
    "    \n",
    "    every_5th_lat = data.sel(lon=0.5).lat[::5]\n",
    "    \n",
    "    for lat in every_5th_lat.values:\n",
    "        data_lines = []\n",
    "        \n",
    "        station = 1\n",
    "        profiles = data.sel(lat=lat)\n",
    "        for lon in profiles.lon.values:\n",
    "            profile = profiles.sel(lon=lon)\n",
    "            if np.all(np.isnan(profile.t_an)):\n",
    "                continue\n",
    "            else:\n",
    "                levels = np.isnan(profile[\"t_an\"])==False\n",
    "                for _, row in profile.isel(depth=levels).to_dataframe().reset_index().iterrows():\n",
    "                    data_lines.append(write_line(station, row))\n",
    "                station += 1\n",
    "        if len(data_lines) > 0:\n",
    "            with open(f\"jos/woa18_lat_{lat}.jos\", 'w') as jos:\n",
    "                jos.write(JOS_HEADER)\n",
    "                jos.write(\"\".join(data_lines))"
   ]
  },
  {
   "cell_type": "markdown",
   "metadata": {},
   "source": [
    "## Request B.6\n",
    "A library of meridional vertical sections extracted from the global profiles at 1-degree resolution, objectively analyzed annual fields (an), all 102 levels in .jos format in .jos format at 10-degree intervals of longitude from +0.5 degrees to -0.5 degrees. (36 sections?)"
   ]
  },
  {
   "cell_type": "code",
   "execution_count": 37,
   "metadata": {},
   "outputs": [],
   "source": [
    "os.makedirs(\"jos\", exist_ok=True)\n",
    "with xr.open_dataset(\"process/woa18_an_00_01.nc\") as data:\n",
    "    \n",
    "    every_5th_lon = data.sel(lat=0.5).lon[::5]\n",
    "    \n",
    "    for lon in every_5th_lon.values:\n",
    "        data_lines = []\n",
    "        \n",
    "        station = 1\n",
    "        profiles = data.sel(lon=lon)\n",
    "        for lat in profiles.lat.values:\n",
    "            profile = profiles.sel(lat=lat)\n",
    "            if np.all(np.isnan(profile.t_an)):\n",
    "                continue\n",
    "            else:\n",
    "                levels = np.isnan(profile[\"t_an\"])==False\n",
    "                for _, row in profile.isel(depth=levels).to_dataframe().reset_index().iterrows():\n",
    "                    data_lines.append(write_line(station, row))\n",
    "                station += 1\n",
    "        if len(data_lines) > 0:\n",
    "            with open(f\"jos/woa18_lon_{lon}.jos\", 'w') as jos:\n",
    "                jos.write(JOS_HEADER)\n",
    "                jos.write(\"\".join(data_lines))"
   ]
  }
 ],
 "metadata": {
  "kernelspec": {
   "display_name": "Python 3",
   "language": "python",
   "name": "python3"
  },
  "language_info": {
   "codemirror_mode": {
    "name": "ipython",
    "version": 3
   },
   "file_extension": ".py",
   "mimetype": "text/x-python",
   "name": "python",
   "nbconvert_exporter": "python",
   "pygments_lexer": "ipython3",
   "version": "3.8.2"
  }
 },
 "nbformat": 4,
 "nbformat_minor": 4
}
